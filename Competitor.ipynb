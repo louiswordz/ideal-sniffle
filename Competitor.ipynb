{
 "cells": [
  {
   "cell_type": "markdown",
   "id": "f7f51d9c-dfc2-4973-8d98-82883f30433a",
   "metadata": {},
   "source": [
    "<details>\n",
    "    <summary>Competitor Data</summary>  \n",
    "</details>"
   ]
  },
  {
   "cell_type": "code",
   "execution_count": 2,
   "id": "809c270c-c4c6-4294-8244-c4e376a7f1fc",
   "metadata": {},
   "outputs": [],
   "source": [
    "# Import libraries\n",
    "import pandas as pd\n",
    "import numpy as np\n",
    "import matplotlib.pyplot as plt\n",
    "\n",
    "import seaborn as sb\n",
    "import warnings\n",
    "warnings.filterwarnings('ignore')"
   ]
  },
  {
   "cell_type": "code",
   "execution_count": 3,
   "id": "6e257b39-74d7-43f7-bd0f-5c63eafd7d95",
   "metadata": {},
   "outputs": [
    {
     "data": {
      "text/html": [
       "<div>\n",
       "<style scoped>\n",
       "    .dataframe tbody tr th:only-of-type {\n",
       "        vertical-align: middle;\n",
       "    }\n",
       "\n",
       "    .dataframe tbody tr th {\n",
       "        vertical-align: top;\n",
       "    }\n",
       "\n",
       "    .dataframe thead th {\n",
       "        text-align: right;\n",
       "    }\n",
       "</style>\n",
       "<table border=\"1\" class=\"dataframe\">\n",
       "  <thead>\n",
       "    <tr style=\"text-align: right;\">\n",
       "      <th></th>\n",
       "      <th>Competitor ID</th>\n",
       "      <th>Campaign ID</th>\n",
       "      <th>Ad Spend</th>\n",
       "      <th>Impressions</th>\n",
       "      <th>Clicks</th>\n",
       "      <th>Conversions</th>\n",
       "      <th>Sales</th>\n",
       "      <th>Campaign Start Date</th>\n",
       "      <th>Campaign End Date</th>\n",
       "    </tr>\n",
       "  </thead>\n",
       "  <tbody>\n",
       "    <tr>\n",
       "      <th>0</th>\n",
       "      <td>Competitor A</td>\n",
       "      <td>1</td>\n",
       "      <td>1373</td>\n",
       "      <td>432495</td>\n",
       "      <td>24027</td>\n",
       "      <td>3003</td>\n",
       "      <td>786786</td>\n",
       "      <td>2023-07-02</td>\n",
       "      <td>2023-07-07</td>\n",
       "    </tr>\n",
       "    <tr>\n",
       "      <th>1</th>\n",
       "      <td>Competitor C</td>\n",
       "      <td>2</td>\n",
       "      <td>1275</td>\n",
       "      <td>455175</td>\n",
       "      <td>45517</td>\n",
       "      <td>5057</td>\n",
       "      <td>338819</td>\n",
       "      <td>2023-09-03</td>\n",
       "      <td>2023-09-05</td>\n",
       "    </tr>\n",
       "    <tr>\n",
       "      <th>2</th>\n",
       "      <td>Competitor B</td>\n",
       "      <td>3</td>\n",
       "      <td>1406</td>\n",
       "      <td>940614</td>\n",
       "      <td>52256</td>\n",
       "      <td>3483</td>\n",
       "      <td>257742</td>\n",
       "      <td>2023-05-14</td>\n",
       "      <td>2023-05-25</td>\n",
       "    </tr>\n",
       "    <tr>\n",
       "      <th>3</th>\n",
       "      <td>Competitor A</td>\n",
       "      <td>4</td>\n",
       "      <td>1820</td>\n",
       "      <td>1126580</td>\n",
       "      <td>62587</td>\n",
       "      <td>6258</td>\n",
       "      <td>1983786</td>\n",
       "      <td>2023-06-22</td>\n",
       "      <td>2023-07-16</td>\n",
       "    </tr>\n",
       "    <tr>\n",
       "      <th>4</th>\n",
       "      <td>Competitor C</td>\n",
       "      <td>5</td>\n",
       "      <td>1216</td>\n",
       "      <td>464512</td>\n",
       "      <td>27324</td>\n",
       "      <td>3036</td>\n",
       "      <td>789360</td>\n",
       "      <td>2023-11-16</td>\n",
       "      <td>2023-12-04</td>\n",
       "    </tr>\n",
       "  </tbody>\n",
       "</table>\n",
       "</div>"
      ],
      "text/plain": [
       "  Competitor ID  Campaign ID  Ad Spend  Impressions  Clicks  Conversions  \\\n",
       "0  Competitor A            1      1373       432495   24027         3003   \n",
       "1  Competitor C            2      1275       455175   45517         5057   \n",
       "2  Competitor B            3      1406       940614   52256         3483   \n",
       "3  Competitor A            4      1820      1126580   62587         6258   \n",
       "4  Competitor C            5      1216       464512   27324         3036   \n",
       "\n",
       "     Sales Campaign Start Date Campaign End Date  \n",
       "0   786786          2023-07-02        2023-07-07  \n",
       "1   338819          2023-09-03        2023-09-05  \n",
       "2   257742          2023-05-14        2023-05-25  \n",
       "3  1983786          2023-06-22        2023-07-16  \n",
       "4   789360          2023-11-16        2023-12-04  "
      ]
     },
     "execution_count": 3,
     "metadata": {},
     "output_type": "execute_result"
    }
   ],
   "source": [
    "#Read data\n",
    "df = pd.read_csv(\"competitor_campaigns.csv\")\n",
    "df.head()"
   ]
  },
  {
   "cell_type": "code",
   "execution_count": 4,
   "id": "cce19e63-8651-4560-867d-233723bf3d36",
   "metadata": {},
   "outputs": [
    {
     "name": "stdout",
     "output_type": "stream",
     "text": [
      "<class 'pandas.core.frame.DataFrame'>\n",
      "RangeIndex: 100 entries, 0 to 99\n",
      "Data columns (total 9 columns):\n",
      " #   Column               Non-Null Count  Dtype \n",
      "---  ------               --------------  ----- \n",
      " 0   Competitor ID        100 non-null    object\n",
      " 1   Campaign ID          100 non-null    int64 \n",
      " 2   Ad Spend             100 non-null    int64 \n",
      " 3   Impressions          100 non-null    int64 \n",
      " 4   Clicks               100 non-null    int64 \n",
      " 5   Conversions          100 non-null    int64 \n",
      " 6   Sales                100 non-null    int64 \n",
      " 7   Campaign Start Date  100 non-null    object\n",
      " 8   Campaign End Date    100 non-null    object\n",
      "dtypes: int64(6), object(3)\n",
      "memory usage: 7.2+ KB\n"
     ]
    }
   ],
   "source": [
    "# Data Info\n",
    "df.info()"
   ]
  },
  {
   "cell_type": "code",
   "execution_count": 5,
   "id": "502e89f3-c63a-49dc-88a6-65435ab4c14b",
   "metadata": {},
   "outputs": [
    {
     "data": {
      "text/plain": [
       "Competitor ID          0\n",
       "Campaign ID            0\n",
       "Ad Spend               0\n",
       "Impressions            0\n",
       "Clicks                 0\n",
       "Conversions            0\n",
       "Sales                  0\n",
       "Campaign Start Date    0\n",
       "Campaign End Date      0\n",
       "dtype: int64"
      ]
     },
     "execution_count": 5,
     "metadata": {},
     "output_type": "execute_result"
    }
   ],
   "source": [
    "# Check for missing data\n",
    "df.isna().sum()"
   ]
  },
  {
   "cell_type": "code",
   "execution_count": 6,
   "id": "956f34c7-dce2-4e34-a568-3e5f1346dd06",
   "metadata": {},
   "outputs": [
    {
     "ename": "ValueError",
     "evalue": "to assemble mappings requires at least that [year, month, day] be specified: [day,month,year] is missing",
     "output_type": "error",
     "traceback": [
      "\u001b[1;31m---------------------------------------------------------------------------\u001b[0m",
      "\u001b[1;31mValueError\u001b[0m                                Traceback (most recent call last)",
      "Cell \u001b[1;32mIn[6], line 1\u001b[0m\n\u001b[1;32m----> 1\u001b[0m df[[\u001b[38;5;124m\"\u001b[39m\u001b[38;5;124mCampaign Start Date\u001b[39m\u001b[38;5;124m\"\u001b[39m, \u001b[38;5;124m\"\u001b[39m\u001b[38;5;124mCampaign End Date\u001b[39m\u001b[38;5;124m\"\u001b[39m]] \u001b[38;5;241m=\u001b[39m pd\u001b[38;5;241m.\u001b[39mto_datetime(df[[\u001b[38;5;124m\"\u001b[39m\u001b[38;5;124mCampaign Start Date\u001b[39m\u001b[38;5;124m\"\u001b[39m, \u001b[38;5;124m\"\u001b[39m\u001b[38;5;124mCampaign End Date\u001b[39m\u001b[38;5;124m\"\u001b[39m]])\n\u001b[0;32m      2\u001b[0m df\u001b[38;5;241m.\u001b[39mtail()\n",
      "File \u001b[1;32m~\\AppData\\Local\\anaconda3\\Lib\\site-packages\\pandas\\core\\tools\\datetimes.py:1115\u001b[0m, in \u001b[0;36mto_datetime\u001b[1;34m(arg, errors, dayfirst, yearfirst, utc, format, exact, unit, infer_datetime_format, origin, cache)\u001b[0m\n\u001b[0;32m   1113\u001b[0m         result \u001b[38;5;241m=\u001b[39m arg\u001b[38;5;241m.\u001b[39m_constructor(values, index\u001b[38;5;241m=\u001b[39marg\u001b[38;5;241m.\u001b[39mindex, name\u001b[38;5;241m=\u001b[39marg\u001b[38;5;241m.\u001b[39mname)\n\u001b[0;32m   1114\u001b[0m \u001b[38;5;28;01melif\u001b[39;00m \u001b[38;5;28misinstance\u001b[39m(arg, (ABCDataFrame, abc\u001b[38;5;241m.\u001b[39mMutableMapping)):\n\u001b[1;32m-> 1115\u001b[0m     result \u001b[38;5;241m=\u001b[39m _assemble_from_unit_mappings(arg, errors, utc)\n\u001b[0;32m   1116\u001b[0m \u001b[38;5;28;01melif\u001b[39;00m \u001b[38;5;28misinstance\u001b[39m(arg, Index):\n\u001b[0;32m   1117\u001b[0m     cache_array \u001b[38;5;241m=\u001b[39m _maybe_cache(arg, \u001b[38;5;28mformat\u001b[39m, cache, convert_listlike)\n",
      "File \u001b[1;32m~\\AppData\\Local\\anaconda3\\Lib\\site-packages\\pandas\\core\\tools\\datetimes.py:1231\u001b[0m, in \u001b[0;36m_assemble_from_unit_mappings\u001b[1;34m(arg, errors, utc)\u001b[0m\n\u001b[0;32m   1229\u001b[0m \u001b[38;5;28;01mif\u001b[39;00m \u001b[38;5;28mlen\u001b[39m(req):\n\u001b[0;32m   1230\u001b[0m     _required \u001b[38;5;241m=\u001b[39m \u001b[38;5;124m\"\u001b[39m\u001b[38;5;124m,\u001b[39m\u001b[38;5;124m\"\u001b[39m\u001b[38;5;241m.\u001b[39mjoin(req)\n\u001b[1;32m-> 1231\u001b[0m     \u001b[38;5;28;01mraise\u001b[39;00m \u001b[38;5;167;01mValueError\u001b[39;00m(\n\u001b[0;32m   1232\u001b[0m         \u001b[38;5;124m\"\u001b[39m\u001b[38;5;124mto assemble mappings requires at least that \u001b[39m\u001b[38;5;124m\"\u001b[39m\n\u001b[0;32m   1233\u001b[0m         \u001b[38;5;124mf\u001b[39m\u001b[38;5;124m\"\u001b[39m\u001b[38;5;124m[year, month, day] be specified: [\u001b[39m\u001b[38;5;132;01m{\u001b[39;00m_required\u001b[38;5;132;01m}\u001b[39;00m\u001b[38;5;124m] is missing\u001b[39m\u001b[38;5;124m\"\u001b[39m\n\u001b[0;32m   1234\u001b[0m     )\n\u001b[0;32m   1236\u001b[0m \u001b[38;5;66;03m# keys we don't recognize\u001b[39;00m\n\u001b[0;32m   1237\u001b[0m excess \u001b[38;5;241m=\u001b[39m \u001b[38;5;28msorted\u001b[39m(\u001b[38;5;28mset\u001b[39m(unit_rev\u001b[38;5;241m.\u001b[39mkeys()) \u001b[38;5;241m-\u001b[39m \u001b[38;5;28mset\u001b[39m(_unit_map\u001b[38;5;241m.\u001b[39mvalues()))\n",
      "\u001b[1;31mValueError\u001b[0m: to assemble mappings requires at least that [year, month, day] be specified: [day,month,year] is missing"
     ]
    }
   ],
   "source": [
    "df[[\"Campaign Start Date\", \"Campaign End Date\"]] = pd.to_datetime(df[[\"Campaign Start Date\", \"Campaign End Date\"]])\n",
    "df.tail()"
   ]
  },
  {
   "cell_type": "code",
   "execution_count": 7,
   "id": "76f1ee2d-818e-4afd-89b9-564abf229246",
   "metadata": {},
   "outputs": [
    {
     "data": {
      "text/plain": [
       "['Hello', 'World']"
      ]
     },
     "execution_count": 7,
     "metadata": {},
     "output_type": "execute_result"
    }
   ],
   "source": [
    "k = \"Hello World\"\n",
    "k.split(\" \")"
   ]
  },
  {
   "cell_type": "code",
   "execution_count": 8,
   "id": "2774d5a3-f26c-4229-b8d5-b0004b16db93",
   "metadata": {},
   "outputs": [
    {
     "data": {
      "text/html": [
       "<div>\n",
       "<style scoped>\n",
       "    .dataframe tbody tr th:only-of-type {\n",
       "        vertical-align: middle;\n",
       "    }\n",
       "\n",
       "    .dataframe tbody tr th {\n",
       "        vertical-align: top;\n",
       "    }\n",
       "\n",
       "    .dataframe thead th {\n",
       "        text-align: right;\n",
       "    }\n",
       "</style>\n",
       "<table border=\"1\" class=\"dataframe\">\n",
       "  <thead>\n",
       "    <tr style=\"text-align: right;\">\n",
       "      <th></th>\n",
       "      <th>0</th>\n",
       "      <th>1</th>\n",
       "      <th>2</th>\n",
       "    </tr>\n",
       "  </thead>\n",
       "  <tbody>\n",
       "    <tr>\n",
       "      <th>0</th>\n",
       "      <td>2023</td>\n",
       "      <td>07</td>\n",
       "      <td>02</td>\n",
       "    </tr>\n",
       "    <tr>\n",
       "      <th>1</th>\n",
       "      <td>2023</td>\n",
       "      <td>09</td>\n",
       "      <td>03</td>\n",
       "    </tr>\n",
       "    <tr>\n",
       "      <th>2</th>\n",
       "      <td>2023</td>\n",
       "      <td>05</td>\n",
       "      <td>14</td>\n",
       "    </tr>\n",
       "    <tr>\n",
       "      <th>3</th>\n",
       "      <td>2023</td>\n",
       "      <td>06</td>\n",
       "      <td>22</td>\n",
       "    </tr>\n",
       "    <tr>\n",
       "      <th>4</th>\n",
       "      <td>2023</td>\n",
       "      <td>11</td>\n",
       "      <td>16</td>\n",
       "    </tr>\n",
       "  </tbody>\n",
       "</table>\n",
       "</div>"
      ],
      "text/plain": [
       "      0   1   2\n",
       "0  2023  07  02\n",
       "1  2023  09  03\n",
       "2  2023  05  14\n",
       "3  2023  06  22\n",
       "4  2023  11  16"
      ]
     },
     "execution_count": 8,
     "metadata": {},
     "output_type": "execute_result"
    }
   ],
   "source": [
    "y = df['Campaign Start Date'].str.split(\"-\", expand=True)\n",
    "y.head()"
   ]
  },
  {
   "cell_type": "code",
   "execution_count": 9,
   "id": "c24c47c1-c490-4867-91a9-59d542ebe07a",
   "metadata": {},
   "outputs": [
    {
     "data": {
      "text/html": [
       "<div>\n",
       "<style scoped>\n",
       "    .dataframe tbody tr th:only-of-type {\n",
       "        vertical-align: middle;\n",
       "    }\n",
       "\n",
       "    .dataframe tbody tr th {\n",
       "        vertical-align: top;\n",
       "    }\n",
       "\n",
       "    .dataframe thead th {\n",
       "        text-align: right;\n",
       "    }\n",
       "</style>\n",
       "<table border=\"1\" class=\"dataframe\">\n",
       "  <thead>\n",
       "    <tr style=\"text-align: right;\">\n",
       "      <th></th>\n",
       "      <th>Competitor ID</th>\n",
       "      <th>Campaign ID</th>\n",
       "      <th>Ad Spend</th>\n",
       "      <th>Impressions</th>\n",
       "      <th>Clicks</th>\n",
       "      <th>Conversions</th>\n",
       "      <th>Sales</th>\n",
       "      <th>Campaign Start Date</th>\n",
       "      <th>Campaign End Date</th>\n",
       "    </tr>\n",
       "  </thead>\n",
       "  <tbody>\n",
       "    <tr>\n",
       "      <th>0</th>\n",
       "      <td>Competitor A</td>\n",
       "      <td>1</td>\n",
       "      <td>1373</td>\n",
       "      <td>432495</td>\n",
       "      <td>24027</td>\n",
       "      <td>3003</td>\n",
       "      <td>786786</td>\n",
       "      <td>07/02/2023</td>\n",
       "      <td>2023-07-07</td>\n",
       "    </tr>\n",
       "    <tr>\n",
       "      <th>1</th>\n",
       "      <td>Competitor C</td>\n",
       "      <td>2</td>\n",
       "      <td>1275</td>\n",
       "      <td>455175</td>\n",
       "      <td>45517</td>\n",
       "      <td>5057</td>\n",
       "      <td>338819</td>\n",
       "      <td>09/03/2023</td>\n",
       "      <td>2023-09-05</td>\n",
       "    </tr>\n",
       "    <tr>\n",
       "      <th>2</th>\n",
       "      <td>Competitor B</td>\n",
       "      <td>3</td>\n",
       "      <td>1406</td>\n",
       "      <td>940614</td>\n",
       "      <td>52256</td>\n",
       "      <td>3483</td>\n",
       "      <td>257742</td>\n",
       "      <td>05/14/2023</td>\n",
       "      <td>2023-05-25</td>\n",
       "    </tr>\n",
       "    <tr>\n",
       "      <th>3</th>\n",
       "      <td>Competitor A</td>\n",
       "      <td>4</td>\n",
       "      <td>1820</td>\n",
       "      <td>1126580</td>\n",
       "      <td>62587</td>\n",
       "      <td>6258</td>\n",
       "      <td>1983786</td>\n",
       "      <td>06/22/2023</td>\n",
       "      <td>2023-07-16</td>\n",
       "    </tr>\n",
       "    <tr>\n",
       "      <th>4</th>\n",
       "      <td>Competitor C</td>\n",
       "      <td>5</td>\n",
       "      <td>1216</td>\n",
       "      <td>464512</td>\n",
       "      <td>27324</td>\n",
       "      <td>3036</td>\n",
       "      <td>789360</td>\n",
       "      <td>11/16/2023</td>\n",
       "      <td>2023-12-04</td>\n",
       "    </tr>\n",
       "  </tbody>\n",
       "</table>\n",
       "</div>"
      ],
      "text/plain": [
       "  Competitor ID  Campaign ID  Ad Spend  Impressions  Clicks  Conversions  \\\n",
       "0  Competitor A            1      1373       432495   24027         3003   \n",
       "1  Competitor C            2      1275       455175   45517         5057   \n",
       "2  Competitor B            3      1406       940614   52256         3483   \n",
       "3  Competitor A            4      1820      1126580   62587         6258   \n",
       "4  Competitor C            5      1216       464512   27324         3036   \n",
       "\n",
       "     Sales Campaign Start Date Campaign End Date  \n",
       "0   786786          07/02/2023        2023-07-07  \n",
       "1   338819          09/03/2023        2023-09-05  \n",
       "2   257742          05/14/2023        2023-05-25  \n",
       "3  1983786          06/22/2023        2023-07-16  \n",
       "4   789360          11/16/2023        2023-12-04  "
      ]
     },
     "execution_count": 9,
     "metadata": {},
     "output_type": "execute_result"
    }
   ],
   "source": [
    "df['Campaign Start Date'] =y[1]+\"/\"+y[2]+\"/\"+y[0]\n",
    "df.head()"
   ]
  },
  {
   "cell_type": "code",
   "execution_count": 10,
   "id": "2f1f3637-4827-4928-a11f-be68cdad868d",
   "metadata": {},
   "outputs": [
    {
     "data": {
      "text/html": [
       "<div>\n",
       "<style scoped>\n",
       "    .dataframe tbody tr th:only-of-type {\n",
       "        vertical-align: middle;\n",
       "    }\n",
       "\n",
       "    .dataframe tbody tr th {\n",
       "        vertical-align: top;\n",
       "    }\n",
       "\n",
       "    .dataframe thead th {\n",
       "        text-align: right;\n",
       "    }\n",
       "</style>\n",
       "<table border=\"1\" class=\"dataframe\">\n",
       "  <thead>\n",
       "    <tr style=\"text-align: right;\">\n",
       "      <th></th>\n",
       "      <th>Competitor ID</th>\n",
       "      <th>Campaign ID</th>\n",
       "      <th>Ad Spend</th>\n",
       "      <th>Impressions</th>\n",
       "      <th>Clicks</th>\n",
       "      <th>Conversions</th>\n",
       "      <th>Sales</th>\n",
       "      <th>Campaign Start Date</th>\n",
       "      <th>Campaign End Date</th>\n",
       "    </tr>\n",
       "  </thead>\n",
       "  <tbody>\n",
       "    <tr>\n",
       "      <th>95</th>\n",
       "      <td>Competitor B</td>\n",
       "      <td>96</td>\n",
       "      <td>650</td>\n",
       "      <td>458900</td>\n",
       "      <td>41718</td>\n",
       "      <td>3792</td>\n",
       "      <td>1190688</td>\n",
       "      <td>04/14/2023</td>\n",
       "      <td>04/21/2023</td>\n",
       "    </tr>\n",
       "    <tr>\n",
       "      <th>96</th>\n",
       "      <td>Competitor C</td>\n",
       "      <td>97</td>\n",
       "      <td>1228</td>\n",
       "      <td>1200984</td>\n",
       "      <td>70646</td>\n",
       "      <td>11774</td>\n",
       "      <td>3438008</td>\n",
       "      <td>06/08/2023</td>\n",
       "      <td>06/16/2023</td>\n",
       "    </tr>\n",
       "    <tr>\n",
       "      <th>97</th>\n",
       "      <td>Competitor C</td>\n",
       "      <td>98</td>\n",
       "      <td>1746</td>\n",
       "      <td>1534734</td>\n",
       "      <td>85263</td>\n",
       "      <td>14210</td>\n",
       "      <td>5499270</td>\n",
       "      <td>02/22/2023</td>\n",
       "      <td>03/01/2023</td>\n",
       "    </tr>\n",
       "    <tr>\n",
       "      <th>98</th>\n",
       "      <td>Competitor B</td>\n",
       "      <td>99</td>\n",
       "      <td>775</td>\n",
       "      <td>727725</td>\n",
       "      <td>38301</td>\n",
       "      <td>2946</td>\n",
       "      <td>730608</td>\n",
       "      <td>07/26/2023</td>\n",
       "      <td>07/28/2023</td>\n",
       "    </tr>\n",
       "    <tr>\n",
       "      <th>99</th>\n",
       "      <td>Competitor A</td>\n",
       "      <td>100</td>\n",
       "      <td>1370</td>\n",
       "      <td>632940</td>\n",
       "      <td>48687</td>\n",
       "      <td>8114</td>\n",
       "      <td>4024544</td>\n",
       "      <td>03/07/2023</td>\n",
       "      <td>03/31/2023</td>\n",
       "    </tr>\n",
       "  </tbody>\n",
       "</table>\n",
       "</div>"
      ],
      "text/plain": [
       "   Competitor ID  Campaign ID  Ad Spend  Impressions  Clicks  Conversions  \\\n",
       "95  Competitor B           96       650       458900   41718         3792   \n",
       "96  Competitor C           97      1228      1200984   70646        11774   \n",
       "97  Competitor C           98      1746      1534734   85263        14210   \n",
       "98  Competitor B           99       775       727725   38301         2946   \n",
       "99  Competitor A          100      1370       632940   48687         8114   \n",
       "\n",
       "      Sales Campaign Start Date Campaign End Date  \n",
       "95  1190688          04/14/2023        04/21/2023  \n",
       "96  3438008          06/08/2023        06/16/2023  \n",
       "97  5499270          02/22/2023        03/01/2023  \n",
       "98   730608          07/26/2023        07/28/2023  \n",
       "99  4024544          03/07/2023        03/31/2023  "
      ]
     },
     "execution_count": 10,
     "metadata": {},
     "output_type": "execute_result"
    }
   ],
   "source": [
    "k = df['Campaign End Date'].str.split('-', expand=True)\n",
    "df['Campaign End Date'] = k[1] + \"/\" + k[2] +\"/\"+k[0]\n",
    "df.tail()"
   ]
  },
  {
   "cell_type": "code",
   "execution_count": 11,
   "id": "9e3f4372-bd4f-42a2-b135-774974608569",
   "metadata": {},
   "outputs": [
    {
     "name": "stdout",
     "output_type": "stream",
     "text": [
      "<class 'pandas.core.frame.DataFrame'>\n",
      "RangeIndex: 100 entries, 0 to 99\n",
      "Data columns (total 9 columns):\n",
      " #   Column               Non-Null Count  Dtype \n",
      "---  ------               --------------  ----- \n",
      " 0   Competitor ID        100 non-null    object\n",
      " 1   Campaign ID          100 non-null    int64 \n",
      " 2   Ad Spend             100 non-null    int64 \n",
      " 3   Impressions          100 non-null    int64 \n",
      " 4   Clicks               100 non-null    int64 \n",
      " 5   Conversions          100 non-null    int64 \n",
      " 6   Sales                100 non-null    int64 \n",
      " 7   Campaign Start Date  100 non-null    object\n",
      " 8   Campaign End Date    100 non-null    object\n",
      "dtypes: int64(6), object(3)\n",
      "memory usage: 7.2+ KB\n"
     ]
    }
   ],
   "source": [
    "df.info()"
   ]
  },
  {
   "cell_type": "code",
   "execution_count": 12,
   "id": "1ace1e34-76cf-42d3-a29b-dd3d43c9e4e3",
   "metadata": {},
   "outputs": [],
   "source": [
    "df[\"Campaign Start Date\"] = pd.to_datetime(df[\"Campaign Start Date\"])"
   ]
  },
  {
   "cell_type": "code",
   "execution_count": 13,
   "id": "b00ba26a-550a-425e-b5d0-090f365f799d",
   "metadata": {},
   "outputs": [
    {
     "data": {
      "text/html": [
       "<div>\n",
       "<style scoped>\n",
       "    .dataframe tbody tr th:only-of-type {\n",
       "        vertical-align: middle;\n",
       "    }\n",
       "\n",
       "    .dataframe tbody tr th {\n",
       "        vertical-align: top;\n",
       "    }\n",
       "\n",
       "    .dataframe thead th {\n",
       "        text-align: right;\n",
       "    }\n",
       "</style>\n",
       "<table border=\"1\" class=\"dataframe\">\n",
       "  <thead>\n",
       "    <tr style=\"text-align: right;\">\n",
       "      <th></th>\n",
       "      <th>Competitor ID</th>\n",
       "      <th>Campaign ID</th>\n",
       "      <th>Ad Spend</th>\n",
       "      <th>Impressions</th>\n",
       "      <th>Clicks</th>\n",
       "      <th>Conversions</th>\n",
       "      <th>Sales</th>\n",
       "      <th>Campaign Start Date</th>\n",
       "      <th>Campaign End Date</th>\n",
       "    </tr>\n",
       "  </thead>\n",
       "  <tbody>\n",
       "    <tr>\n",
       "      <th>95</th>\n",
       "      <td>Competitor B</td>\n",
       "      <td>96</td>\n",
       "      <td>650</td>\n",
       "      <td>458900</td>\n",
       "      <td>41718</td>\n",
       "      <td>3792</td>\n",
       "      <td>1190688</td>\n",
       "      <td>2023-04-14</td>\n",
       "      <td>2023-04-21</td>\n",
       "    </tr>\n",
       "    <tr>\n",
       "      <th>96</th>\n",
       "      <td>Competitor C</td>\n",
       "      <td>97</td>\n",
       "      <td>1228</td>\n",
       "      <td>1200984</td>\n",
       "      <td>70646</td>\n",
       "      <td>11774</td>\n",
       "      <td>3438008</td>\n",
       "      <td>2023-06-08</td>\n",
       "      <td>2023-06-16</td>\n",
       "    </tr>\n",
       "    <tr>\n",
       "      <th>97</th>\n",
       "      <td>Competitor C</td>\n",
       "      <td>98</td>\n",
       "      <td>1746</td>\n",
       "      <td>1534734</td>\n",
       "      <td>85263</td>\n",
       "      <td>14210</td>\n",
       "      <td>5499270</td>\n",
       "      <td>2023-02-22</td>\n",
       "      <td>2023-03-01</td>\n",
       "    </tr>\n",
       "    <tr>\n",
       "      <th>98</th>\n",
       "      <td>Competitor B</td>\n",
       "      <td>99</td>\n",
       "      <td>775</td>\n",
       "      <td>727725</td>\n",
       "      <td>38301</td>\n",
       "      <td>2946</td>\n",
       "      <td>730608</td>\n",
       "      <td>2023-07-26</td>\n",
       "      <td>2023-07-28</td>\n",
       "    </tr>\n",
       "    <tr>\n",
       "      <th>99</th>\n",
       "      <td>Competitor A</td>\n",
       "      <td>100</td>\n",
       "      <td>1370</td>\n",
       "      <td>632940</td>\n",
       "      <td>48687</td>\n",
       "      <td>8114</td>\n",
       "      <td>4024544</td>\n",
       "      <td>2023-03-07</td>\n",
       "      <td>2023-03-31</td>\n",
       "    </tr>\n",
       "  </tbody>\n",
       "</table>\n",
       "</div>"
      ],
      "text/plain": [
       "   Competitor ID  Campaign ID  Ad Spend  Impressions  Clicks  Conversions  \\\n",
       "95  Competitor B           96       650       458900   41718         3792   \n",
       "96  Competitor C           97      1228      1200984   70646        11774   \n",
       "97  Competitor C           98      1746      1534734   85263        14210   \n",
       "98  Competitor B           99       775       727725   38301         2946   \n",
       "99  Competitor A          100      1370       632940   48687         8114   \n",
       "\n",
       "      Sales Campaign Start Date Campaign End Date  \n",
       "95  1190688          2023-04-14        2023-04-21  \n",
       "96  3438008          2023-06-08        2023-06-16  \n",
       "97  5499270          2023-02-22        2023-03-01  \n",
       "98   730608          2023-07-26        2023-07-28  \n",
       "99  4024544          2023-03-07        2023-03-31  "
      ]
     },
     "execution_count": 13,
     "metadata": {},
     "output_type": "execute_result"
    }
   ],
   "source": [
    "df[\"Campaign End Date\"] = pd.to_datetime(df[\"Campaign End Date\"])\n",
    "df.tail()"
   ]
  },
  {
   "cell_type": "code",
   "execution_count": 14,
   "id": "4dd65502-f138-4341-9617-ef86f0ba14a8",
   "metadata": {},
   "outputs": [
    {
     "name": "stdout",
     "output_type": "stream",
     "text": [
      "<class 'pandas.core.frame.DataFrame'>\n",
      "RangeIndex: 100 entries, 0 to 99\n",
      "Data columns (total 9 columns):\n",
      " #   Column               Non-Null Count  Dtype         \n",
      "---  ------               --------------  -----         \n",
      " 0   Competitor ID        100 non-null    object        \n",
      " 1   Campaign ID          100 non-null    int64         \n",
      " 2   Ad Spend             100 non-null    int64         \n",
      " 3   Impressions          100 non-null    int64         \n",
      " 4   Clicks               100 non-null    int64         \n",
      " 5   Conversions          100 non-null    int64         \n",
      " 6   Sales                100 non-null    int64         \n",
      " 7   Campaign Start Date  100 non-null    datetime64[ns]\n",
      " 8   Campaign End Date    100 non-null    datetime64[ns]\n",
      "dtypes: datetime64[ns](2), int64(6), object(1)\n",
      "memory usage: 7.2+ KB\n"
     ]
    }
   ],
   "source": [
    "df.info()"
   ]
  },
  {
   "cell_type": "code",
   "execution_count": 15,
   "id": "9009d0f1-d48a-40ba-aad0-641c5ee24760",
   "metadata": {},
   "outputs": [
    {
     "data": {
      "text/plain": [
       "array(['Competitor A', 'Competitor C', 'Competitor B'], dtype=object)"
      ]
     },
     "execution_count": 15,
     "metadata": {},
     "output_type": "execute_result"
    }
   ],
   "source": [
    "df[\"Competitor ID\"].unique()"
   ]
  },
  {
   "cell_type": "code",
   "execution_count": 16,
   "id": "95b5f6e3-58a9-49b8-8a7e-3563c0638bd6",
   "metadata": {},
   "outputs": [
    {
     "data": {
      "text/plain": [
       "Competitor ID\n",
       "Competitor C    46\n",
       "Competitor B    33\n",
       "Competitor A    21\n",
       "Name: count, dtype: int64"
      ]
     },
     "execution_count": 16,
     "metadata": {},
     "output_type": "execute_result"
    }
   ],
   "source": [
    "df['Competitor ID'].value_counts()"
   ]
  },
  {
   "cell_type": "code",
   "execution_count": 17,
   "id": "3cbfa182-8ffc-4dba-922c-b59903637d7d",
   "metadata": {},
   "outputs": [
    {
     "data": {
      "text/plain": [
       "Competitor ID\n",
       "Competitor A    21\n",
       "Competitor B    33\n",
       "Competitor C    46\n",
       "Name: count, dtype: int64"
      ]
     },
     "execution_count": 17,
     "metadata": {},
     "output_type": "execute_result"
    }
   ],
   "source": [
    "df['Competitor ID'].value_counts().sort_values(ascending=True)"
   ]
  },
  {
   "cell_type": "code",
   "execution_count": 18,
   "id": "4a4b5517-4e35-4ab4-b157-17b0032f9a83",
   "metadata": {},
   "outputs": [
    {
     "data": {
      "text/plain": [
       "100"
      ]
     },
     "execution_count": 18,
     "metadata": {},
     "output_type": "execute_result"
    }
   ],
   "source": [
    "df['Campaign ID'].nunique()"
   ]
  },
  {
   "cell_type": "code",
   "execution_count": 19,
   "id": "23d1b863-76cc-4634-aca8-19af4e608622",
   "metadata": {},
   "outputs": [
    {
     "data": {
      "text/plain": [
       "<matplotlib.collections.PathCollection at 0x1ed16914650>"
      ]
     },
     "execution_count": 19,
     "metadata": {},
     "output_type": "execute_result"
    },
    {
     "data": {
      "image/png": "[encoded data removed]",
      "text/plain": [
       "<Figure size 400x300 with 1 Axes>"
      ]
     },
     "metadata": {},
     "output_type": "display_data"
    }
   ],
   "source": [
    "fig, ax = plt.subplots(figsize=[4,3])\n",
    "ax.scatter(df[\"Campaign Start Date\"], df['Sales'])"
   ]
  },
  {
   "cell_type": "code",
   "execution_count": 20,
   "id": "766976ff-16f8-4ea8-85c8-cfc484d22f02",
   "metadata": {},
   "outputs": [],
   "source": [
    "df2 = df.copy()"
   ]
  },
  {
   "cell_type": "code",
   "execution_count": 21,
   "id": "1f57e0c9-1e9e-46ef-b9cc-919c10b0b7ad",
   "metadata": {},
   "outputs": [
    {
     "data": {
      "text/html": [
       "<div>\n",
       "<style scoped>\n",
       "    .dataframe tbody tr th:only-of-type {\n",
       "        vertical-align: middle;\n",
       "    }\n",
       "\n",
       "    .dataframe tbody tr th {\n",
       "        vertical-align: top;\n",
       "    }\n",
       "\n",
       "    .dataframe thead th {\n",
       "        text-align: right;\n",
       "    }\n",
       "</style>\n",
       "<table border=\"1\" class=\"dataframe\">\n",
       "  <thead>\n",
       "    <tr style=\"text-align: right;\">\n",
       "      <th></th>\n",
       "      <th>Competitor ID</th>\n",
       "      <th>Campaign ID</th>\n",
       "      <th>Ad Spend</th>\n",
       "      <th>Impressions</th>\n",
       "      <th>Clicks</th>\n",
       "      <th>Conversions</th>\n",
       "      <th>Sales</th>\n",
       "      <th>Campaign Start Date</th>\n",
       "      <th>Campaign End Date</th>\n",
       "    </tr>\n",
       "  </thead>\n",
       "  <tbody>\n",
       "    <tr>\n",
       "      <th>0</th>\n",
       "      <td>Competitor A</td>\n",
       "      <td>1</td>\n",
       "      <td>1373</td>\n",
       "      <td>432495</td>\n",
       "      <td>24027</td>\n",
       "      <td>3003</td>\n",
       "      <td>786786</td>\n",
       "      <td>2023-07-02</td>\n",
       "      <td>2023-07-07</td>\n",
       "    </tr>\n",
       "    <tr>\n",
       "      <th>1</th>\n",
       "      <td>Competitor C</td>\n",
       "      <td>2</td>\n",
       "      <td>1275</td>\n",
       "      <td>455175</td>\n",
       "      <td>45517</td>\n",
       "      <td>5057</td>\n",
       "      <td>338819</td>\n",
       "      <td>2023-09-03</td>\n",
       "      <td>2023-09-05</td>\n",
       "    </tr>\n",
       "    <tr>\n",
       "      <th>2</th>\n",
       "      <td>Competitor B</td>\n",
       "      <td>3</td>\n",
       "      <td>1406</td>\n",
       "      <td>940614</td>\n",
       "      <td>52256</td>\n",
       "      <td>3483</td>\n",
       "      <td>257742</td>\n",
       "      <td>2023-05-14</td>\n",
       "      <td>2023-05-25</td>\n",
       "    </tr>\n",
       "    <tr>\n",
       "      <th>3</th>\n",
       "      <td>Competitor A</td>\n",
       "      <td>4</td>\n",
       "      <td>1820</td>\n",
       "      <td>1126580</td>\n",
       "      <td>62587</td>\n",
       "      <td>6258</td>\n",
       "      <td>1983786</td>\n",
       "      <td>2023-06-22</td>\n",
       "      <td>2023-07-16</td>\n",
       "    </tr>\n",
       "    <tr>\n",
       "      <th>4</th>\n",
       "      <td>Competitor C</td>\n",
       "      <td>5</td>\n",
       "      <td>1216</td>\n",
       "      <td>464512</td>\n",
       "      <td>27324</td>\n",
       "      <td>3036</td>\n",
       "      <td>789360</td>\n",
       "      <td>2023-11-16</td>\n",
       "      <td>2023-12-04</td>\n",
       "    </tr>\n",
       "  </tbody>\n",
       "</table>\n",
       "</div>"
      ],
      "text/plain": [
       "  Competitor ID  Campaign ID  Ad Spend  Impressions  Clicks  Conversions  \\\n",
       "0  Competitor A            1      1373       432495   24027         3003   \n",
       "1  Competitor C            2      1275       455175   45517         5057   \n",
       "2  Competitor B            3      1406       940614   52256         3483   \n",
       "3  Competitor A            4      1820      1126580   62587         6258   \n",
       "4  Competitor C            5      1216       464512   27324         3036   \n",
       "\n",
       "     Sales Campaign Start Date Campaign End Date  \n",
       "0   786786          2023-07-02        2023-07-07  \n",
       "1   338819          2023-09-03        2023-09-05  \n",
       "2   257742          2023-05-14        2023-05-25  \n",
       "3  1983786          2023-06-22        2023-07-16  \n",
       "4   789360          2023-11-16        2023-12-04  "
      ]
     },
     "execution_count": 21,
     "metadata": {},
     "output_type": "execute_result"
    }
   ],
   "source": [
    "df2.head()"
   ]
  },
  {
   "cell_type": "code",
   "execution_count": 22,
   "id": "76439708-68a5-42dc-bd49-d9e9ad4620d9",
   "metadata": {},
   "outputs": [],
   "source": [
    "df2.index = df['Campaign Start Date']"
   ]
  },
  {
   "cell_type": "code",
   "execution_count": 23,
   "id": "acdf4e07-049c-4f05-911a-7ca2e6f88470",
   "metadata": {},
   "outputs": [
    {
     "data": {
      "text/html": [
       "<div>\n",
       "<style scoped>\n",
       "    .dataframe tbody tr th:only-of-type {\n",
       "        vertical-align: middle;\n",
       "    }\n",
       "\n",
       "    .dataframe tbody tr th {\n",
       "        vertical-align: top;\n",
       "    }\n",
       "\n",
       "    .dataframe thead th {\n",
       "        text-align: right;\n",
       "    }\n",
       "</style>\n",
       "<table border=\"1\" class=\"dataframe\">\n",
       "  <thead>\n",
       "    <tr style=\"text-align: right;\">\n",
       "      <th></th>\n",
       "      <th>Competitor ID</th>\n",
       "      <th>Campaign ID</th>\n",
       "      <th>Ad Spend</th>\n",
       "      <th>Impressions</th>\n",
       "      <th>Clicks</th>\n",
       "      <th>Conversions</th>\n",
       "      <th>Sales</th>\n",
       "      <th>Campaign Start Date</th>\n",
       "      <th>Campaign End Date</th>\n",
       "    </tr>\n",
       "    <tr>\n",
       "      <th>Campaign Start Date</th>\n",
       "      <th></th>\n",
       "      <th></th>\n",
       "      <th></th>\n",
       "      <th></th>\n",
       "      <th></th>\n",
       "      <th></th>\n",
       "      <th></th>\n",
       "      <th></th>\n",
       "      <th></th>\n",
       "    </tr>\n",
       "  </thead>\n",
       "  <tbody>\n",
       "    <tr>\n",
       "      <th>2023-07-02</th>\n",
       "      <td>Competitor A</td>\n",
       "      <td>1</td>\n",
       "      <td>1373</td>\n",
       "      <td>432495</td>\n",
       "      <td>24027</td>\n",
       "      <td>3003</td>\n",
       "      <td>786786</td>\n",
       "      <td>2023-07-02</td>\n",
       "      <td>2023-07-07</td>\n",
       "    </tr>\n",
       "    <tr>\n",
       "      <th>2023-09-03</th>\n",
       "      <td>Competitor C</td>\n",
       "      <td>2</td>\n",
       "      <td>1275</td>\n",
       "      <td>455175</td>\n",
       "      <td>45517</td>\n",
       "      <td>5057</td>\n",
       "      <td>338819</td>\n",
       "      <td>2023-09-03</td>\n",
       "      <td>2023-09-05</td>\n",
       "    </tr>\n",
       "    <tr>\n",
       "      <th>2023-05-14</th>\n",
       "      <td>Competitor B</td>\n",
       "      <td>3</td>\n",
       "      <td>1406</td>\n",
       "      <td>940614</td>\n",
       "      <td>52256</td>\n",
       "      <td>3483</td>\n",
       "      <td>257742</td>\n",
       "      <td>2023-05-14</td>\n",
       "      <td>2023-05-25</td>\n",
       "    </tr>\n",
       "    <tr>\n",
       "      <th>2023-06-22</th>\n",
       "      <td>Competitor A</td>\n",
       "      <td>4</td>\n",
       "      <td>1820</td>\n",
       "      <td>1126580</td>\n",
       "      <td>62587</td>\n",
       "      <td>6258</td>\n",
       "      <td>1983786</td>\n",
       "      <td>2023-06-22</td>\n",
       "      <td>2023-07-16</td>\n",
       "    </tr>\n",
       "    <tr>\n",
       "      <th>2023-11-16</th>\n",
       "      <td>Competitor C</td>\n",
       "      <td>5</td>\n",
       "      <td>1216</td>\n",
       "      <td>464512</td>\n",
       "      <td>27324</td>\n",
       "      <td>3036</td>\n",
       "      <td>789360</td>\n",
       "      <td>2023-11-16</td>\n",
       "      <td>2023-12-04</td>\n",
       "    </tr>\n",
       "  </tbody>\n",
       "</table>\n",
       "</div>"
      ],
      "text/plain": [
       "                    Competitor ID  Campaign ID  Ad Spend  Impressions  Clicks  \\\n",
       "Campaign Start Date                                                             \n",
       "2023-07-02           Competitor A            1      1373       432495   24027   \n",
       "2023-09-03           Competitor C            2      1275       455175   45517   \n",
       "2023-05-14           Competitor B            3      1406       940614   52256   \n",
       "2023-06-22           Competitor A            4      1820      1126580   62587   \n",
       "2023-11-16           Competitor C            5      1216       464512   27324   \n",
       "\n",
       "                     Conversions    Sales Campaign Start Date  \\\n",
       "Campaign Start Date                                             \n",
       "2023-07-02                  3003   786786          2023-07-02   \n",
       "2023-09-03                  5057   338819          2023-09-03   \n",
       "2023-05-14                  3483   257742          2023-05-14   \n",
       "2023-06-22                  6258  1983786          2023-06-22   \n",
       "2023-11-16                  3036   789360          2023-11-16   \n",
       "\n",
       "                    Campaign End Date  \n",
       "Campaign Start Date                    \n",
       "2023-07-02                 2023-07-07  \n",
       "2023-09-03                 2023-09-05  \n",
       "2023-05-14                 2023-05-25  \n",
       "2023-06-22                 2023-07-16  \n",
       "2023-11-16                 2023-12-04  "
      ]
     },
     "execution_count": 23,
     "metadata": {},
     "output_type": "execute_result"
    }
   ],
   "source": [
    "df2.head()"
   ]
  },
  {
   "cell_type": "code",
   "execution_count": 24,
   "id": "3187b460-8667-4676-9cc3-f06c46b7b684",
   "metadata": {},
   "outputs": [
    {
     "data": {
      "text/plain": [
       "<Axes: xlabel='Sales'>"
      ]
     },
     "execution_count": 24,
     "metadata": {},
     "output_type": "execute_result"
    },
    {
     "data": {
      "image/png": "[encoded data removed]",
      "text/plain": [
       "<Figure size 640x480 with 1 Axes>"
      ]
     },
     "metadata": {},
     "output_type": "display_data"
    }
   ],
   "source": [
    "df2.plot('Sales')"
   ]
  },
  {
   "cell_type": "code",
   "execution_count": 25,
   "id": "b14b86cd-b8cd-45d4-989a-44c02407c1d6",
   "metadata": {},
   "outputs": [
    {
     "data": {
      "text/plain": [
       "<Axes: >"
      ]
     },
     "execution_count": 25,
     "metadata": {},
     "output_type": "execute_result"
    },
    {
     "data": {
      "image/png": "[encoded data removed]",
      "text/plain": [
       "<Figure size 640x480 with 1 Axes>"
      ]
     },
     "metadata": {},
     "output_type": "display_data"
    }
   ],
   "source": [
    "df['Sales'].cumsum().plot()"
   ]
  },
  {
   "cell_type": "code",
   "execution_count": 26,
   "id": "deb9a660-6497-4935-afa2-34f21a63a97d",
   "metadata": {},
   "outputs": [
    {
     "data": {
      "text/plain": [
       "0        786786\n",
       "1       1125605\n",
       "2       1383347\n",
       "3       3367133\n",
       "4       4156493\n",
       "        ...    \n",
       "95    140255403\n",
       "96    143693411\n",
       "97    149192681\n",
       "98    149923289\n",
       "99    153947833\n",
       "Name: Sales, Length: 100, dtype: int64"
      ]
     },
     "execution_count": 26,
     "metadata": {},
     "output_type": "execute_result"
    }
   ],
   "source": [
    "df['Sales'].cumsum()"
   ]
  },
  {
   "cell_type": "code",
   "execution_count": 27,
   "id": "fc409524-ff80-4706-bb3f-cca328a12950",
   "metadata": {},
   "outputs": [
    {
     "data": {
      "text/plain": [
       "<matplotlib.legend.Legend at 0x1ed16492d90>"
      ]
     },
     "execution_count": 27,
     "metadata": {},
     "output_type": "execute_result"
    },
    {
     "data": {
      "image/png": "[encoded data removed]",
      "text/plain": [
       "<Figure size 640x480 with 1 Axes>"
      ]
     },
     "metadata": {},
     "output_type": "display_data"
    }
   ],
   "source": [
    "df2['Sales'].cumsum().plot()\n",
    "plt.title(\"Sales Campaign Start Date\")\n",
    "plt.xlabel(\"Start Date For Campaign\")\n",
    "plt.ylabel('Sales')\n",
    "plt.legend()"
   ]
  },
  {
   "cell_type": "markdown",
   "id": "32402793-2b68-4f09-a02f-2bb1bfa71b4e",
   "metadata": {},
   "source": [
    "<h2>Matplotlib</h2>"
   ]
  },
  {
   "cell_type": "code",
   "execution_count": 28,
   "id": "05f2bbdf-1c79-4b88-8643-0c62b41de8ce",
   "metadata": {},
   "outputs": [
    {
     "data": {
      "text/plain": [
       "[<matplotlib.lines.Line2D at 0x1ed16b55190>]"
      ]
     },
     "execution_count": 28,
     "metadata": {},
     "output_type": "execute_result"
    },
    {
     "data": {
      "image/png": "[encoded data removed]",
      "text/plain": [
       "<Figure size 640x480 with 1 Axes>"
      ]
     },
     "metadata": {},
     "output_type": "display_data"
    }
   ],
   "source": [
    "plt.plot(df['Sales'])"
   ]
  },
  {
   "cell_type": "code",
   "execution_count": 29,
   "id": "c131f73b-fddb-4801-a2cf-6ef22703d617",
   "metadata": {},
   "outputs": [
    {
     "data": {
      "image/png": "[encoded data removed]",
      "text/plain": [
       "<Figure size 640x480 with 1 Axes>"
      ]
     },
     "metadata": {},
     "output_type": "display_data"
    }
   ],
   "source": [
    "plt.hist(df['Sales'], bins=50);"
   ]
  },
  {
   "cell_type": "code",
   "execution_count": 30,
   "id": "55d38eb1-5333-4af0-a0a8-8373e1aa3168",
   "metadata": {},
   "outputs": [
    {
     "data": {
      "image/png": "[encoded data removed]",
      "text/plain": [
       "<Figure size 640x480 with 1 Axes>"
      ]
     },
     "metadata": {},
     "output_type": "display_data"
    }
   ],
   "source": [
    "plt.boxplot(df['Impressions']);"
   ]
  },
  {
   "cell_type": "code",
   "execution_count": 31,
   "id": "e979aff3-7393-4e27-912f-89822ffab9d9",
   "metadata": {},
   "outputs": [
    {
     "data": {
      "text/plain": [
       "100"
      ]
     },
     "execution_count": 31,
     "metadata": {},
     "output_type": "execute_result"
    }
   ],
   "source": [
    "df2.Sales.nunique()"
   ]
  },
  {
   "cell_type": "code",
   "execution_count": 32,
   "id": "5f9cf24d-519e-4b79-ad43-c7d90f3e8e18",
   "metadata": {},
   "outputs": [
    {
     "data": {
      "text/html": [
       "<div>\n",
       "<style scoped>\n",
       "    .dataframe tbody tr th:only-of-type {\n",
       "        vertical-align: middle;\n",
       "    }\n",
       "\n",
       "    .dataframe tbody tr th {\n",
       "        vertical-align: top;\n",
       "    }\n",
       "\n",
       "    .dataframe thead th {\n",
       "        text-align: right;\n",
       "    }\n",
       "</style>\n",
       "<table border=\"1\" class=\"dataframe\">\n",
       "  <thead>\n",
       "    <tr style=\"text-align: right;\">\n",
       "      <th></th>\n",
       "      <th>count</th>\n",
       "      <th>mean</th>\n",
       "      <th>min</th>\n",
       "      <th>25%</th>\n",
       "      <th>50%</th>\n",
       "      <th>75%</th>\n",
       "      <th>max</th>\n",
       "      <th>std</th>\n",
       "    </tr>\n",
       "  </thead>\n",
       "  <tbody>\n",
       "    <tr>\n",
       "      <th>Campaign ID</th>\n",
       "      <td>100.0</td>\n",
       "      <td>50.5</td>\n",
       "      <td>1.0</td>\n",
       "      <td>25.75</td>\n",
       "      <td>50.5</td>\n",
       "      <td>75.25</td>\n",
       "      <td>100.0</td>\n",
       "      <td>29.011492</td>\n",
       "    </tr>\n",
       "    <tr>\n",
       "      <th>Ad Spend</th>\n",
       "      <td>100.0</td>\n",
       "      <td>1272.58</td>\n",
       "      <td>575.0</td>\n",
       "      <td>1013.5</td>\n",
       "      <td>1267.5</td>\n",
       "      <td>1577.5</td>\n",
       "      <td>1972.0</td>\n",
       "      <td>389.009729</td>\n",
       "    </tr>\n",
       "    <tr>\n",
       "      <th>Impressions</th>\n",
       "      <td>100.0</td>\n",
       "      <td>753573.7</td>\n",
       "      <td>106080.0</td>\n",
       "      <td>417633.0</td>\n",
       "      <td>700441.0</td>\n",
       "      <td>1078374.0</td>\n",
       "      <td>1751588.0</td>\n",
       "      <td>422861.435151</td>\n",
       "    </tr>\n",
       "    <tr>\n",
       "      <th>Clicks</th>\n",
       "      <td>100.0</td>\n",
       "      <td>52268.05</td>\n",
       "      <td>5583.0</td>\n",
       "      <td>28818.75</td>\n",
       "      <td>45740.0</td>\n",
       "      <td>70673.75</td>\n",
       "      <td>154644.0</td>\n",
       "      <td>32338.556</td>\n",
       "    </tr>\n",
       "    <tr>\n",
       "      <th>Conversions</th>\n",
       "      <td>100.0</td>\n",
       "      <td>5774.51</td>\n",
       "      <td>398.0</td>\n",
       "      <td>2961.75</td>\n",
       "      <td>4918.0</td>\n",
       "      <td>8031.75</td>\n",
       "      <td>23354.0</td>\n",
       "      <td>4143.6358</td>\n",
       "    </tr>\n",
       "    <tr>\n",
       "      <th>Sales</th>\n",
       "      <td>100.0</td>\n",
       "      <td>1539478.33</td>\n",
       "      <td>85373.0</td>\n",
       "      <td>594816.0</td>\n",
       "      <td>1131468.5</td>\n",
       "      <td>2160520.25</td>\n",
       "      <td>6375642.0</td>\n",
       "      <td>1323090.003391</td>\n",
       "    </tr>\n",
       "    <tr>\n",
       "      <th>Campaign Start Date</th>\n",
       "      <td>100</td>\n",
       "      <td>2023-07-08 12:43:12</td>\n",
       "      <td>2023-01-07 00:00:00</td>\n",
       "      <td>2023-04-13 00:00:00</td>\n",
       "      <td>2023-07-01 12:00:00</td>\n",
       "      <td>2023-10-11 00:00:00</td>\n",
       "      <td>2023-12-28 00:00:00</td>\n",
       "      <td>NaN</td>\n",
       "    </tr>\n",
       "    <tr>\n",
       "      <th>Campaign End Date</th>\n",
       "      <td>100</td>\n",
       "      <td>2023-07-23 12:57:36</td>\n",
       "      <td>2023-01-11 00:00:00</td>\n",
       "      <td>2023-04-27 18:00:00</td>\n",
       "      <td>2023-07-18 12:00:00</td>\n",
       "      <td>2023-10-23 00:00:00</td>\n",
       "      <td>2024-01-17 00:00:00</td>\n",
       "      <td>NaN</td>\n",
       "    </tr>\n",
       "  </tbody>\n",
       "</table>\n",
       "</div>"
      ],
      "text/plain": [
       "                     count                 mean                  min  \\\n",
       "Campaign ID          100.0                 50.5                  1.0   \n",
       "Ad Spend             100.0              1272.58                575.0   \n",
       "Impressions          100.0             753573.7             106080.0   \n",
       "Clicks               100.0             52268.05               5583.0   \n",
       "Conversions          100.0              5774.51                398.0   \n",
       "Sales                100.0           1539478.33              85373.0   \n",
       "Campaign Start Date    100  2023-07-08 12:43:12  2023-01-07 00:00:00   \n",
       "Campaign End Date      100  2023-07-23 12:57:36  2023-01-11 00:00:00   \n",
       "\n",
       "                                     25%                  50%  \\\n",
       "Campaign ID                        25.75                 50.5   \n",
       "Ad Spend                          1013.5               1267.5   \n",
       "Impressions                     417633.0             700441.0   \n",
       "Clicks                          28818.75              45740.0   \n",
       "Conversions                      2961.75               4918.0   \n",
       "Sales                           594816.0            1131468.5   \n",
       "Campaign Start Date  2023-04-13 00:00:00  2023-07-01 12:00:00   \n",
       "Campaign End Date    2023-04-27 18:00:00  2023-07-18 12:00:00   \n",
       "\n",
       "                                     75%                  max             std  \n",
       "Campaign ID                        75.25                100.0       29.011492  \n",
       "Ad Spend                          1577.5               1972.0      389.009729  \n",
       "Impressions                    1078374.0            1751588.0   422861.435151  \n",
       "Clicks                          70673.75             154644.0       32338.556  \n",
       "Conversions                      8031.75              23354.0       4143.6358  \n",
       "Sales                         2160520.25            6375642.0  1323090.003391  \n",
       "Campaign Start Date  2023-10-11 00:00:00  2023-12-28 00:00:00             NaN  \n",
       "Campaign End Date    2023-10-23 00:00:00  2024-01-17 00:00:00             NaN  "
      ]
     },
     "execution_count": 32,
     "metadata": {},
     "output_type": "execute_result"
    }
   ],
   "source": [
    "df2.describe().T"
   ]
  },
  {
   "cell_type": "code",
   "execution_count": 33,
   "id": "bf551882-7f4a-4289-9497-69504b05f563",
   "metadata": {},
   "outputs": [
    {
     "data": {
      "text/html": [
       "<div>\n",
       "<style scoped>\n",
       "    .dataframe tbody tr th:only-of-type {\n",
       "        vertical-align: middle;\n",
       "    }\n",
       "\n",
       "    .dataframe tbody tr th {\n",
       "        vertical-align: top;\n",
       "    }\n",
       "\n",
       "    .dataframe thead th {\n",
       "        text-align: right;\n",
       "    }\n",
       "</style>\n",
       "<table border=\"1\" class=\"dataframe\">\n",
       "  <thead>\n",
       "    <tr style=\"text-align: right;\">\n",
       "      <th></th>\n",
       "      <th>Competitor ID</th>\n",
       "      <th>Campaign ID</th>\n",
       "      <th>Ad Spend</th>\n",
       "      <th>Impressions</th>\n",
       "      <th>Clicks</th>\n",
       "      <th>Conversions</th>\n",
       "      <th>Sales</th>\n",
       "      <th>Campaign Start Date</th>\n",
       "      <th>Campaign End Date</th>\n",
       "    </tr>\n",
       "  </thead>\n",
       "  <tbody>\n",
       "    <tr>\n",
       "      <th>0</th>\n",
       "      <td>Competitor A</td>\n",
       "      <td>1</td>\n",
       "      <td>1373</td>\n",
       "      <td>432495</td>\n",
       "      <td>24027</td>\n",
       "      <td>3003</td>\n",
       "      <td>786786</td>\n",
       "      <td>2023-07-02</td>\n",
       "      <td>2023-07-07</td>\n",
       "    </tr>\n",
       "    <tr>\n",
       "      <th>1</th>\n",
       "      <td>Competitor C</td>\n",
       "      <td>2</td>\n",
       "      <td>1275</td>\n",
       "      <td>455175</td>\n",
       "      <td>45517</td>\n",
       "      <td>5057</td>\n",
       "      <td>338819</td>\n",
       "      <td>2023-09-03</td>\n",
       "      <td>2023-09-05</td>\n",
       "    </tr>\n",
       "    <tr>\n",
       "      <th>2</th>\n",
       "      <td>Competitor B</td>\n",
       "      <td>3</td>\n",
       "      <td>1406</td>\n",
       "      <td>940614</td>\n",
       "      <td>52256</td>\n",
       "      <td>3483</td>\n",
       "      <td>257742</td>\n",
       "      <td>2023-05-14</td>\n",
       "      <td>2023-05-25</td>\n",
       "    </tr>\n",
       "    <tr>\n",
       "      <th>3</th>\n",
       "      <td>Competitor A</td>\n",
       "      <td>4</td>\n",
       "      <td>1820</td>\n",
       "      <td>1126580</td>\n",
       "      <td>62587</td>\n",
       "      <td>6258</td>\n",
       "      <td>1983786</td>\n",
       "      <td>2023-06-22</td>\n",
       "      <td>2023-07-16</td>\n",
       "    </tr>\n",
       "    <tr>\n",
       "      <th>4</th>\n",
       "      <td>Competitor C</td>\n",
       "      <td>5</td>\n",
       "      <td>1216</td>\n",
       "      <td>464512</td>\n",
       "      <td>27324</td>\n",
       "      <td>3036</td>\n",
       "      <td>789360</td>\n",
       "      <td>2023-11-16</td>\n",
       "      <td>2023-12-04</td>\n",
       "    </tr>\n",
       "  </tbody>\n",
       "</table>\n",
       "</div>"
      ],
      "text/plain": [
       "  Competitor ID  Campaign ID  Ad Spend  Impressions  Clicks  Conversions  \\\n",
       "0  Competitor A            1      1373       432495   24027         3003   \n",
       "1  Competitor C            2      1275       455175   45517         5057   \n",
       "2  Competitor B            3      1406       940614   52256         3483   \n",
       "3  Competitor A            4      1820      1126580   62587         6258   \n",
       "4  Competitor C            5      1216       464512   27324         3036   \n",
       "\n",
       "     Sales Campaign Start Date Campaign End Date  \n",
       "0   786786          2023-07-02        2023-07-07  \n",
       "1   338819          2023-09-03        2023-09-05  \n",
       "2   257742          2023-05-14        2023-05-25  \n",
       "3  1983786          2023-06-22        2023-07-16  \n",
       "4   789360          2023-11-16        2023-12-04  "
      ]
     },
     "execution_count": 33,
     "metadata": {},
     "output_type": "execute_result"
    }
   ],
   "source": [
    "df.head()"
   ]
  },
  {
   "cell_type": "code",
   "execution_count": 34,
   "id": "fac48f9f-f464-4ca2-b973-82ae8d56db43",
   "metadata": {},
   "outputs": [],
   "source": [
    "df.index = df['Campaign End Date']"
   ]
  },
  {
   "cell_type": "code",
   "execution_count": 35,
   "id": "aa38164b-a8a9-4426-97ac-a8ae997f81bf",
   "metadata": {},
   "outputs": [
    {
     "data": {
      "text/html": [
       "<div>\n",
       "<style scoped>\n",
       "    .dataframe tbody tr th:only-of-type {\n",
       "        vertical-align: middle;\n",
       "    }\n",
       "\n",
       "    .dataframe tbody tr th {\n",
       "        vertical-align: top;\n",
       "    }\n",
       "\n",
       "    .dataframe thead th {\n",
       "        text-align: right;\n",
       "    }\n",
       "</style>\n",
       "<table border=\"1\" class=\"dataframe\">\n",
       "  <thead>\n",
       "    <tr style=\"text-align: right;\">\n",
       "      <th></th>\n",
       "      <th>Competitor ID</th>\n",
       "      <th>Campaign ID</th>\n",
       "      <th>Ad Spend</th>\n",
       "      <th>Impressions</th>\n",
       "      <th>Clicks</th>\n",
       "      <th>Conversions</th>\n",
       "      <th>Sales</th>\n",
       "      <th>Campaign Start Date</th>\n",
       "      <th>Campaign End Date</th>\n",
       "    </tr>\n",
       "    <tr>\n",
       "      <th>Campaign End Date</th>\n",
       "      <th></th>\n",
       "      <th></th>\n",
       "      <th></th>\n",
       "      <th></th>\n",
       "      <th></th>\n",
       "      <th></th>\n",
       "      <th></th>\n",
       "      <th></th>\n",
       "      <th></th>\n",
       "    </tr>\n",
       "  </thead>\n",
       "  <tbody>\n",
       "    <tr>\n",
       "      <th>2023-07-07</th>\n",
       "      <td>Competitor A</td>\n",
       "      <td>1</td>\n",
       "      <td>1373</td>\n",
       "      <td>432495</td>\n",
       "      <td>24027</td>\n",
       "      <td>3003</td>\n",
       "      <td>786786</td>\n",
       "      <td>2023-07-02</td>\n",
       "      <td>2023-07-07</td>\n",
       "    </tr>\n",
       "    <tr>\n",
       "      <th>2023-09-05</th>\n",
       "      <td>Competitor C</td>\n",
       "      <td>2</td>\n",
       "      <td>1275</td>\n",
       "      <td>455175</td>\n",
       "      <td>45517</td>\n",
       "      <td>5057</td>\n",
       "      <td>338819</td>\n",
       "      <td>2023-09-03</td>\n",
       "      <td>2023-09-05</td>\n",
       "    </tr>\n",
       "    <tr>\n",
       "      <th>2023-05-25</th>\n",
       "      <td>Competitor B</td>\n",
       "      <td>3</td>\n",
       "      <td>1406</td>\n",
       "      <td>940614</td>\n",
       "      <td>52256</td>\n",
       "      <td>3483</td>\n",
       "      <td>257742</td>\n",
       "      <td>2023-05-14</td>\n",
       "      <td>2023-05-25</td>\n",
       "    </tr>\n",
       "    <tr>\n",
       "      <th>2023-07-16</th>\n",
       "      <td>Competitor A</td>\n",
       "      <td>4</td>\n",
       "      <td>1820</td>\n",
       "      <td>1126580</td>\n",
       "      <td>62587</td>\n",
       "      <td>6258</td>\n",
       "      <td>1983786</td>\n",
       "      <td>2023-06-22</td>\n",
       "      <td>2023-07-16</td>\n",
       "    </tr>\n",
       "    <tr>\n",
       "      <th>2023-12-04</th>\n",
       "      <td>Competitor C</td>\n",
       "      <td>5</td>\n",
       "      <td>1216</td>\n",
       "      <td>464512</td>\n",
       "      <td>27324</td>\n",
       "      <td>3036</td>\n",
       "      <td>789360</td>\n",
       "      <td>2023-11-16</td>\n",
       "      <td>2023-12-04</td>\n",
       "    </tr>\n",
       "  </tbody>\n",
       "</table>\n",
       "</div>"
      ],
      "text/plain": [
       "                  Competitor ID  Campaign ID  Ad Spend  Impressions  Clicks  \\\n",
       "Campaign End Date                                                             \n",
       "2023-07-07         Competitor A            1      1373       432495   24027   \n",
       "2023-09-05         Competitor C            2      1275       455175   45517   \n",
       "2023-05-25         Competitor B            3      1406       940614   52256   \n",
       "2023-07-16         Competitor A            4      1820      1126580   62587   \n",
       "2023-12-04         Competitor C            5      1216       464512   27324   \n",
       "\n",
       "                   Conversions    Sales Campaign Start Date Campaign End Date  \n",
       "Campaign End Date                                                              \n",
       "2023-07-07                3003   786786          2023-07-02        2023-07-07  \n",
       "2023-09-05                5057   338819          2023-09-03        2023-09-05  \n",
       "2023-05-25                3483   257742          2023-05-14        2023-05-25  \n",
       "2023-07-16                6258  1983786          2023-06-22        2023-07-16  \n",
       "2023-12-04                3036   789360          2023-11-16        2023-12-04  "
      ]
     },
     "execution_count": 35,
     "metadata": {},
     "output_type": "execute_result"
    }
   ],
   "source": [
    "df.head()"
   ]
  },
  {
   "cell_type": "code",
   "execution_count": 36,
   "id": "eb35e3a3-f31f-4afb-ae5c-159ba40eace0",
   "metadata": {},
   "outputs": [
    {
     "data": {
      "text/plain": [
       "<Axes: xlabel='Campaign End Date'>"
      ]
     },
     "execution_count": 36,
     "metadata": {},
     "output_type": "execute_result"
    },
    {
     "data": {
      "image/png": "[encoded data removed]",
      "text/plain": [
       "<Figure size 640x480 with 1 Axes>"
      ]
     },
     "metadata": {},
     "output_type": "display_data"
    }
   ],
   "source": [
    "df['Impressions'].plot()"
   ]
  },
  {
   "cell_type": "markdown",
   "id": "d3d01914-9f21-4ded-81e9-e5819b7f5107",
   "metadata": {},
   "source": [
    "<details>\n",
    "    <summary>Numerical data manipulation factors</summary>\n",
    "</details>\n",
    "<ul>\n",
    "    <li>Center</li>\n",
    "    <li>Spread</li>\n",
    "    <li>Shape</li>\n",
    "    <li>Outliers</li>\n",
    "</ul>"
   ]
  },
  {
   "cell_type": "markdown",
   "id": "9493b92d-9317-41d0-9e19-ef14ffd5a0fb",
   "metadata": {},
   "source": [
    "<h2>Center</h2>\n",
    "<ul>\n",
    "    <li>Mean</li>\n",
    "    <li>Median</li>\n",
    "    <li>Mode</li>\n",
    "</ul>"
   ]
  },
  {
   "cell_type": "code",
   "execution_count": 37,
   "id": "b9833135-8090-4a79-8f19-96ee0b7c3f48",
   "metadata": {},
   "outputs": [
    {
     "data": {
      "text/plain": [
       "1539478.33"
      ]
     },
     "execution_count": 37,
     "metadata": {},
     "output_type": "execute_result"
    }
   ],
   "source": [
    "df['Sales'].mean()"
   ]
  },
  {
   "cell_type": "code",
   "execution_count": 38,
   "id": "fdd16ee3-3bbc-4cb5-9b82-01eaf00a0625",
   "metadata": {},
   "outputs": [
    {
     "data": {
      "text/plain": [
       "0       85373\n",
       "1      103770\n",
       "2      111024\n",
       "3      125341\n",
       "4      134922\n",
       "       ...   \n",
       "95    4362058\n",
       "96    4570968\n",
       "97    5281380\n",
       "98    5499270\n",
       "99    6375642\n",
       "Name: Sales, Length: 100, dtype: int64"
      ]
     },
     "execution_count": 38,
     "metadata": {},
     "output_type": "execute_result"
    }
   ],
   "source": [
    "df['Sales'].mode()"
   ]
  },
  {
   "cell_type": "code",
   "execution_count": 39,
   "id": "8a653005-ea04-4312-9123-f02ff9060091",
   "metadata": {},
   "outputs": [
    {
     "data": {
      "text/plain": [
       "1131468.5"
      ]
     },
     "execution_count": 39,
     "metadata": {},
     "output_type": "execute_result"
    }
   ],
   "source": [
    "df.Sales.median()"
   ]
  },
  {
   "cell_type": "markdown",
   "id": "25dfc45c-1812-4efd-979e-3adb07478597",
   "metadata": {},
   "source": [
    "<h2>Spread</h2>\n",
    "<ul>\n",
    "    <li>Range</li>\n",
    "    <li>Interquantile range</li>\n",
    "    <li>Standard deviation</li>\n",
    "    <li>Variance</li>\n",
    "</ul>"
   ]
  },
  {
   "cell_type": "code",
   "execution_count": 45,
   "id": "4345b73e-beaf-4d0b-8342-142ea24a0fc2",
   "metadata": {},
   "outputs": [],
   "source": [
    "df3 = df[['Ad Spend','Impressions','Clicks','Conversions','Sales']]"
   ]
  },
  {
   "cell_type": "code",
   "execution_count": 51,
   "id": "25e8c9c4-a5d6-4827-845c-21c86bfa2238",
   "metadata": {},
   "outputs": [],
   "source": [
    "[low, high] = df3['Sales'].quantile([.1, .5])"
   ]
  },
  {
   "cell_type": "code",
   "execution_count": 60,
   "id": "5158d1e4-718a-465b-b3c2-bea87a77cb54",
   "metadata": {},
   "outputs": [
    {
     "data": {
      "text/plain": [
       "(318526.1, 1131468.5)"
      ]
     },
     "execution_count": 60,
     "metadata": {},
     "output_type": "execute_result"
    }
   ],
   "source": [
    "round(low, 2) , round(high, 2)"
   ]
  },
  {
   "cell_type": "code",
   "execution_count": 59,
   "id": "0cf9f01d-6cf9-4dbd-82d9-839642370f15",
   "metadata": {},
   "outputs": [
    {
     "data": {
      "text/html": [
       "<div>\n",
       "<style scoped>\n",
       "    .dataframe tbody tr th:only-of-type {\n",
       "        vertical-align: middle;\n",
       "    }\n",
       "\n",
       "    .dataframe tbody tr th {\n",
       "        vertical-align: top;\n",
       "    }\n",
       "\n",
       "    .dataframe thead th {\n",
       "        text-align: right;\n",
       "    }\n",
       "</style>\n",
       "<table border=\"1\" class=\"dataframe\">\n",
       "  <thead>\n",
       "    <tr style=\"text-align: right;\">\n",
       "      <th></th>\n",
       "      <th>Ad Spend</th>\n",
       "      <th>Impressions</th>\n",
       "      <th>Clicks</th>\n",
       "      <th>Conversions</th>\n",
       "      <th>Sales</th>\n",
       "    </tr>\n",
       "    <tr>\n",
       "      <th>Campaign End Date</th>\n",
       "      <th></th>\n",
       "      <th></th>\n",
       "      <th></th>\n",
       "      <th></th>\n",
       "      <th></th>\n",
       "    </tr>\n",
       "  </thead>\n",
       "  <tbody>\n",
       "    <tr>\n",
       "      <th>2023-07-07</th>\n",
       "      <td>1373</td>\n",
       "      <td>432495</td>\n",
       "      <td>24027</td>\n",
       "      <td>3003</td>\n",
       "      <td>786786</td>\n",
       "    </tr>\n",
       "    <tr>\n",
       "      <th>2023-09-05</th>\n",
       "      <td>1275</td>\n",
       "      <td>455175</td>\n",
       "      <td>45517</td>\n",
       "      <td>5057</td>\n",
       "      <td>338819</td>\n",
       "    </tr>\n",
       "    <tr>\n",
       "      <th>2023-12-04</th>\n",
       "      <td>1216</td>\n",
       "      <td>464512</td>\n",
       "      <td>27324</td>\n",
       "      <td>3036</td>\n",
       "      <td>789360</td>\n",
       "    </tr>\n",
       "    <tr>\n",
       "      <th>2023-03-02</th>\n",
       "      <td>722</td>\n",
       "      <td>327066</td>\n",
       "      <td>16353</td>\n",
       "      <td>2044</td>\n",
       "      <td>533484</td>\n",
       "    </tr>\n",
       "    <tr>\n",
       "      <th>2024-01-09</th>\n",
       "      <td>861</td>\n",
       "      <td>854973</td>\n",
       "      <td>61069</td>\n",
       "      <td>8724</td>\n",
       "      <td>549612</td>\n",
       "    </tr>\n",
       "  </tbody>\n",
       "</table>\n",
       "</div>"
      ],
      "text/plain": [
       "                   Ad Spend  Impressions  Clicks  Conversions   Sales\n",
       "Campaign End Date                                                    \n",
       "2023-07-07             1373       432495   24027         3003  786786\n",
       "2023-09-05             1275       455175   45517         5057  338819\n",
       "2023-12-04             1216       464512   27324         3036  789360\n",
       "2023-03-02              722       327066   16353         2044  533484\n",
       "2024-01-09              861       854973   61069         8724  549612"
      ]
     },
     "execution_count": 59,
     "metadata": {},
     "output_type": "execute_result"
    }
   ],
   "source": [
    "df4 = df3[df3['Sales'].between(low, high)]\n",
    "df4.head()"
   ]
  },
  {
   "cell_type": "code",
   "execution_count": 58,
   "id": "c8819bd6-6aa4-474d-a6da-19c215f2643f",
   "metadata": {},
   "outputs": [
    {
     "data": {
      "text/plain": [
       "25"
      ]
     },
     "execution_count": 58,
     "metadata": {},
     "output_type": "execute_result"
    }
   ],
   "source": [
    "df4.size"
   ]
  },
  {
   "cell_type": "markdown",
   "id": "0f491507-d2b7-417e-8832-e1970ff527e8",
   "metadata": {},
   "source": [
    "<p>&#8721;</p>"
   ]
  },
  {
   "cell_type": "code",
   "execution_count": 63,
   "id": "6c933c33-439c-4a0f-bc77-c918b8376cc8",
   "metadata": {},
   "outputs": [
    {
     "data": {
      "text/html": [
       "<div>\n",
       "<style scoped>\n",
       "    .dataframe tbody tr th:only-of-type {\n",
       "        vertical-align: middle;\n",
       "    }\n",
       "\n",
       "    .dataframe tbody tr th {\n",
       "        vertical-align: top;\n",
       "    }\n",
       "\n",
       "    .dataframe thead th {\n",
       "        text-align: right;\n",
       "    }\n",
       "</style>\n",
       "<table border=\"1\" class=\"dataframe\">\n",
       "  <thead>\n",
       "    <tr style=\"text-align: right;\">\n",
       "      <th></th>\n",
       "      <th>count</th>\n",
       "      <th>mean</th>\n",
       "      <th>std</th>\n",
       "      <th>min</th>\n",
       "      <th>25%</th>\n",
       "      <th>50%</th>\n",
       "      <th>75%</th>\n",
       "      <th>max</th>\n",
       "    </tr>\n",
       "  </thead>\n",
       "  <tbody>\n",
       "    <tr>\n",
       "      <th>Ad Spend</th>\n",
       "      <td>5.0</td>\n",
       "      <td>1089.4</td>\n",
       "      <td>281.981028</td>\n",
       "      <td>722.0</td>\n",
       "      <td>861.0</td>\n",
       "      <td>1216.0</td>\n",
       "      <td>1275.0</td>\n",
       "      <td>1373.0</td>\n",
       "    </tr>\n",
       "    <tr>\n",
       "      <th>Impressions</th>\n",
       "      <td>5.0</td>\n",
       "      <td>506844.2</td>\n",
       "      <td>202177.760591</td>\n",
       "      <td>327066.0</td>\n",
       "      <td>432495.0</td>\n",
       "      <td>455175.0</td>\n",
       "      <td>464512.0</td>\n",
       "      <td>854973.0</td>\n",
       "    </tr>\n",
       "    <tr>\n",
       "      <th>Clicks</th>\n",
       "      <td>5.0</td>\n",
       "      <td>34858.0</td>\n",
       "      <td>18146.194808</td>\n",
       "      <td>16353.0</td>\n",
       "      <td>24027.0</td>\n",
       "      <td>27324.0</td>\n",
       "      <td>45517.0</td>\n",
       "      <td>61069.0</td>\n",
       "    </tr>\n",
       "    <tr>\n",
       "      <th>Conversions</th>\n",
       "      <td>5.0</td>\n",
       "      <td>4372.8</td>\n",
       "      <td>2668.696629</td>\n",
       "      <td>2044.0</td>\n",
       "      <td>3003.0</td>\n",
       "      <td>3036.0</td>\n",
       "      <td>5057.0</td>\n",
       "      <td>8724.0</td>\n",
       "    </tr>\n",
       "    <tr>\n",
       "      <th>Sales</th>\n",
       "      <td>5.0</td>\n",
       "      <td>599612.2</td>\n",
       "      <td>191000.203542</td>\n",
       "      <td>338819.0</td>\n",
       "      <td>533484.0</td>\n",
       "      <td>549612.0</td>\n",
       "      <td>786786.0</td>\n",
       "      <td>789360.0</td>\n",
       "    </tr>\n",
       "  </tbody>\n",
       "</table>\n",
       "</div>"
      ],
      "text/plain": [
       "             count      mean            std       min       25%       50%  \\\n",
       "Ad Spend       5.0    1089.4     281.981028     722.0     861.0    1216.0   \n",
       "Impressions    5.0  506844.2  202177.760591  327066.0  432495.0  455175.0   \n",
       "Clicks         5.0   34858.0   18146.194808   16353.0   24027.0   27324.0   \n",
       "Conversions    5.0    4372.8    2668.696629    2044.0    3003.0    3036.0   \n",
       "Sales          5.0  599612.2  191000.203542  338819.0  533484.0  549612.0   \n",
       "\n",
       "                  75%       max  \n",
       "Ad Spend       1275.0    1373.0  \n",
       "Impressions  464512.0  854973.0  \n",
       "Clicks        45517.0   61069.0  \n",
       "Conversions    5057.0    8724.0  \n",
       "Sales        786786.0  789360.0  "
      ]
     },
     "execution_count": 63,
     "metadata": {},
     "output_type": "execute_result"
    }
   ],
   "source": [
    "df4.describe().T"
   ]
  },
  {
   "cell_type": "code",
   "execution_count": 67,
   "id": "6d892cd6-adf2-4ce0-8d38-abc5626ba229",
   "metadata": {},
   "outputs": [
    {
     "data": {
      "text/plain": [
       "(Ad Spend       7.951330e+04\n",
       " Impressions    4.087585e+10\n",
       " Clicks         3.292844e+08\n",
       " Conversions    7.121942e+06\n",
       " Sales          3.648108e+10\n",
       " dtype: float64,)"
      ]
     },
     "execution_count": 67,
     "metadata": {},
     "output_type": "execute_result"
    }
   ],
   "source": [
    "df4.var()"
   ]
  },
  {
   "cell_type": "markdown",
   "id": "ed8c9240-fc03-4a15-a89b-3f5def408603",
   "metadata": {},
   "source": [
    "<h2>Shape</h2>"
   ]
  },
  {
   "cell_type": "code",
   "execution_count": 69,
   "id": "71dbf2f8-9280-4aa2-ad12-19b5108e62a0",
   "metadata": {},
   "outputs": [
    {
     "data": {
      "text/plain": [
       "(100, 5)"
      ]
     },
     "execution_count": 69,
     "metadata": {},
     "output_type": "execute_result"
    }
   ],
   "source": [
    "df3.shape"
   ]
  }
 ],
 "metadata": {
  "kernelspec": {
   "display_name": "Python 3 (ipykernel)",
   "language": "python",
   "name": "python3"
  },
  "language_info": {
   "codemirror_mode": {
    "name": "ipython",
    "version": 3
   },
   "file_extension": ".py",
   "mimetype": "text/x-python",
   "name": "python",
   "nbconvert_exporter": "python",
   "pygments_lexer": "ipython3",
   "version": "3.11.7"
  }
 },
 "nbformat": 4,
 "nbformat_minor": 5
}
